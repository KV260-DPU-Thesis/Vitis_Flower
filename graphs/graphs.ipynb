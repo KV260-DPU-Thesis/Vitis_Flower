{
 "cells": [
  {
   "cell_type": "code",
   "execution_count": 24,
   "metadata": {},
   "outputs": [],
   "source": [
    "import pandas as pd \n",
    "import numpy as np \n",
    "import plotly.express as px \n",
    "import plotly.graph_objects as go\n",
    "from plotly.subplots import make_subplots"
   ]
  },
  {
   "cell_type": "code",
   "execution_count": 17,
   "metadata": {},
   "outputs": [],
   "source": [
    "# Define the columns for the dataframe\n",
    "columns = ['Core Number', 'Architecture', 'Average Inference Time (ms)', 'Power Consumption (mW)', 'DSP Slice Count', 'RAM Count (Block + Ultra RAM)']\n",
    "\n",
    "# Create a dataframe and populate it\n",
    "df = pd.DataFrame(columns=columns, data=[\n",
    "    ['1 Core', 'B512', 149.24702, 3830, 102, 18],\n",
    "    ['1 Core', 'B800', 102.31090, 3950, 146, 40],\n",
    "    ['1 Core', 'B1024', 78.97330, 3990, 166, 26],\n",
    "    ['1 Core', 'B1152', 73.60489, 4050, 198, 44],\n",
    "    ['1 Core', 'B1600', 54.64798, 4140, 246, 63.5],\n",
    "    ['1 Core', 'B2304', 39.55908, 4180, 342, 77.5],\n",
    "    ['1 Core', 'B3136', 30.18162, 4320, 454, 95.5],\n",
    "    ['1 Core', 'B4096', 21.25033, 4450, 582, 117.5]\n",
    "])"
   ]
  },
  {
   "cell_type": "code",
   "execution_count": 18,
   "metadata": {},
   "outputs": [
    {
     "data": {
      "text/html": [
       "<div>\n",
       "<style scoped>\n",
       "    .dataframe tbody tr th:only-of-type {\n",
       "        vertical-align: middle;\n",
       "    }\n",
       "\n",
       "    .dataframe tbody tr th {\n",
       "        vertical-align: top;\n",
       "    }\n",
       "\n",
       "    .dataframe thead th {\n",
       "        text-align: right;\n",
       "    }\n",
       "</style>\n",
       "<table border=\"1\" class=\"dataframe\">\n",
       "  <thead>\n",
       "    <tr style=\"text-align: right;\">\n",
       "      <th></th>\n",
       "      <th>Core Number</th>\n",
       "      <th>Architecture</th>\n",
       "      <th>Average Inference Time (ms)</th>\n",
       "      <th>Power Consumption (mW)</th>\n",
       "      <th>DSP Slice Count</th>\n",
       "      <th>RAM Count (Block + Ultra RAM)</th>\n",
       "    </tr>\n",
       "  </thead>\n",
       "  <tbody>\n",
       "    <tr>\n",
       "      <th>0</th>\n",
       "      <td>1 Core</td>\n",
       "      <td>B512</td>\n",
       "      <td>149.24702</td>\n",
       "      <td>3830</td>\n",
       "      <td>102</td>\n",
       "      <td>18.0</td>\n",
       "    </tr>\n",
       "    <tr>\n",
       "      <th>1</th>\n",
       "      <td>1 Core</td>\n",
       "      <td>B800</td>\n",
       "      <td>102.31090</td>\n",
       "      <td>3950</td>\n",
       "      <td>146</td>\n",
       "      <td>40.0</td>\n",
       "    </tr>\n",
       "    <tr>\n",
       "      <th>2</th>\n",
       "      <td>1 Core</td>\n",
       "      <td>B1024</td>\n",
       "      <td>78.97330</td>\n",
       "      <td>3990</td>\n",
       "      <td>166</td>\n",
       "      <td>26.0</td>\n",
       "    </tr>\n",
       "    <tr>\n",
       "      <th>3</th>\n",
       "      <td>1 Core</td>\n",
       "      <td>B1152</td>\n",
       "      <td>73.60489</td>\n",
       "      <td>4050</td>\n",
       "      <td>198</td>\n",
       "      <td>44.0</td>\n",
       "    </tr>\n",
       "    <tr>\n",
       "      <th>4</th>\n",
       "      <td>1 Core</td>\n",
       "      <td>B1600</td>\n",
       "      <td>54.64798</td>\n",
       "      <td>4140</td>\n",
       "      <td>246</td>\n",
       "      <td>63.5</td>\n",
       "    </tr>\n",
       "    <tr>\n",
       "      <th>5</th>\n",
       "      <td>1 Core</td>\n",
       "      <td>B2304</td>\n",
       "      <td>39.55908</td>\n",
       "      <td>4180</td>\n",
       "      <td>342</td>\n",
       "      <td>77.5</td>\n",
       "    </tr>\n",
       "    <tr>\n",
       "      <th>6</th>\n",
       "      <td>1 Core</td>\n",
       "      <td>B3136</td>\n",
       "      <td>30.18162</td>\n",
       "      <td>4320</td>\n",
       "      <td>454</td>\n",
       "      <td>95.5</td>\n",
       "    </tr>\n",
       "    <tr>\n",
       "      <th>7</th>\n",
       "      <td>1 Core</td>\n",
       "      <td>B4096</td>\n",
       "      <td>21.25033</td>\n",
       "      <td>4450</td>\n",
       "      <td>582</td>\n",
       "      <td>117.5</td>\n",
       "    </tr>\n",
       "  </tbody>\n",
       "</table>\n",
       "</div>"
      ],
      "text/plain": [
       "  Core Number Architecture  Average Inference Time (ms)  \\\n",
       "0      1 Core         B512                    149.24702   \n",
       "1      1 Core         B800                    102.31090   \n",
       "2      1 Core        B1024                     78.97330   \n",
       "3      1 Core        B1152                     73.60489   \n",
       "4      1 Core        B1600                     54.64798   \n",
       "5      1 Core        B2304                     39.55908   \n",
       "6      1 Core        B3136                     30.18162   \n",
       "7      1 Core        B4096                     21.25033   \n",
       "\n",
       "   Power Consumption (mW)  DSP Slice Count  RAM Count (Block + Ultra RAM)  \n",
       "0                    3830              102                           18.0  \n",
       "1                    3950              146                           40.0  \n",
       "2                    3990              166                           26.0  \n",
       "3                    4050              198                           44.0  \n",
       "4                    4140              246                           63.5  \n",
       "5                    4180              342                           77.5  \n",
       "6                    4320              454                           95.5  \n",
       "7                    4450              582                          117.5  "
      ]
     },
     "execution_count": 18,
     "metadata": {},
     "output_type": "execute_result"
    }
   ],
   "source": [
    "df"
   ]
  },
  {
   "cell_type": "code",
   "execution_count": 21,
   "metadata": {},
   "outputs": [],
   "source": [
    "# Function to scale each value to a new range from 1 to 10\n",
    "def scale_to_range(df, new_min=1, new_max=10):\n",
    "    return df.apply(lambda x: new_min + ((x - x.min()) * (new_max - new_min) / (x.max() - x.min())))\n",
    "\n",
    "# Apply the scaling to all numeric columns in the DataFrame\n",
    "numeric_columns = ['Average Inference Time (ms)', 'Power Consumption (mW)', 'DSP Slice Count', 'RAM Count (Block + Ultra RAM)']\n",
    "df[numeric_columns] = scale_to_range(df[numeric_columns])"
   ]
  },
  {
   "cell_type": "code",
   "execution_count": 22,
   "metadata": {},
   "outputs": [
    {
     "data": {
      "text/html": [
       "<div>\n",
       "<style scoped>\n",
       "    .dataframe tbody tr th:only-of-type {\n",
       "        vertical-align: middle;\n",
       "    }\n",
       "\n",
       "    .dataframe tbody tr th {\n",
       "        vertical-align: top;\n",
       "    }\n",
       "\n",
       "    .dataframe thead th {\n",
       "        text-align: right;\n",
       "    }\n",
       "</style>\n",
       "<table border=\"1\" class=\"dataframe\">\n",
       "  <thead>\n",
       "    <tr style=\"text-align: right;\">\n",
       "      <th></th>\n",
       "      <th>Core Number</th>\n",
       "      <th>Architecture</th>\n",
       "      <th>Average Inference Time (ms)</th>\n",
       "      <th>Power Consumption (mW)</th>\n",
       "      <th>DSP Slice Count</th>\n",
       "      <th>RAM Count (Block + Ultra RAM)</th>\n",
       "    </tr>\n",
       "  </thead>\n",
       "  <tbody>\n",
       "    <tr>\n",
       "      <th>0</th>\n",
       "      <td>1 Core</td>\n",
       "      <td>B512</td>\n",
       "      <td>10.000000</td>\n",
       "      <td>1.000000</td>\n",
       "      <td>1.000</td>\n",
       "      <td>1.000000</td>\n",
       "    </tr>\n",
       "    <tr>\n",
       "      <th>1</th>\n",
       "      <td>1 Core</td>\n",
       "      <td>B800</td>\n",
       "      <td>6.699719</td>\n",
       "      <td>2.741935</td>\n",
       "      <td>1.825</td>\n",
       "      <td>2.989950</td>\n",
       "    </tr>\n",
       "    <tr>\n",
       "      <th>2</th>\n",
       "      <td>1 Core</td>\n",
       "      <td>B1024</td>\n",
       "      <td>5.058751</td>\n",
       "      <td>3.322581</td>\n",
       "      <td>2.200</td>\n",
       "      <td>1.723618</td>\n",
       "    </tr>\n",
       "    <tr>\n",
       "      <th>3</th>\n",
       "      <td>1 Core</td>\n",
       "      <td>B1152</td>\n",
       "      <td>4.681275</td>\n",
       "      <td>4.193548</td>\n",
       "      <td>2.800</td>\n",
       "      <td>3.351759</td>\n",
       "    </tr>\n",
       "    <tr>\n",
       "      <th>4</th>\n",
       "      <td>1 Core</td>\n",
       "      <td>B1600</td>\n",
       "      <td>3.348333</td>\n",
       "      <td>5.500000</td>\n",
       "      <td>3.700</td>\n",
       "      <td>5.115578</td>\n",
       "    </tr>\n",
       "    <tr>\n",
       "      <th>5</th>\n",
       "      <td>1 Core</td>\n",
       "      <td>B2304</td>\n",
       "      <td>2.287367</td>\n",
       "      <td>6.080645</td>\n",
       "      <td>5.500</td>\n",
       "      <td>6.381910</td>\n",
       "    </tr>\n",
       "    <tr>\n",
       "      <th>6</th>\n",
       "      <td>1 Core</td>\n",
       "      <td>B3136</td>\n",
       "      <td>1.627998</td>\n",
       "      <td>8.112903</td>\n",
       "      <td>7.600</td>\n",
       "      <td>8.010050</td>\n",
       "    </tr>\n",
       "    <tr>\n",
       "      <th>7</th>\n",
       "      <td>1 Core</td>\n",
       "      <td>B4096</td>\n",
       "      <td>1.000000</td>\n",
       "      <td>10.000000</td>\n",
       "      <td>10.000</td>\n",
       "      <td>10.000000</td>\n",
       "    </tr>\n",
       "  </tbody>\n",
       "</table>\n",
       "</div>"
      ],
      "text/plain": [
       "  Core Number Architecture  Average Inference Time (ms)  \\\n",
       "0      1 Core         B512                    10.000000   \n",
       "1      1 Core         B800                     6.699719   \n",
       "2      1 Core        B1024                     5.058751   \n",
       "3      1 Core        B1152                     4.681275   \n",
       "4      1 Core        B1600                     3.348333   \n",
       "5      1 Core        B2304                     2.287367   \n",
       "6      1 Core        B3136                     1.627998   \n",
       "7      1 Core        B4096                     1.000000   \n",
       "\n",
       "   Power Consumption (mW)  DSP Slice Count  RAM Count (Block + Ultra RAM)  \n",
       "0                1.000000            1.000                       1.000000  \n",
       "1                2.741935            1.825                       2.989950  \n",
       "2                3.322581            2.200                       1.723618  \n",
       "3                4.193548            2.800                       3.351759  \n",
       "4                5.500000            3.700                       5.115578  \n",
       "5                6.080645            5.500                       6.381910  \n",
       "6                8.112903            7.600                       8.010050  \n",
       "7               10.000000           10.000                      10.000000  "
      ]
     },
     "execution_count": 22,
     "metadata": {},
     "output_type": "execute_result"
    }
   ],
   "source": [
    "df"
   ]
  },
  {
   "cell_type": "code",
   "execution_count": 33,
   "metadata": {},
   "outputs": [
    {
     "data": {
      "application/vnd.plotly.v1+json": {
       "config": {
        "plotlyServerURL": "https://plot.ly"
       },
       "data": [
        {
         "fill": "toself",
         "name": "B512",
         "r": [
          10,
          1,
          1,
          1
         ],
         "subplot": "polar",
         "theta": [
          "Average Inference Time (ms)",
          "Power Consumption (mW)",
          "DSP Slice Count",
          "RAM Count (Block + Ultra RAM)"
         ],
         "type": "scatterpolar"
        },
        {
         "fill": "toself",
         "name": "B800",
         "r": [
          6.699718719288757,
          2.741935483870968,
          1.825,
          2.9899497487437188
         ],
         "subplot": "polar2",
         "theta": [
          "Average Inference Time (ms)",
          "Power Consumption (mW)",
          "DSP Slice Count",
          "RAM Count (Block + Ultra RAM)"
         ],
         "type": "scatterpolar"
        },
        {
         "fill": "toself",
         "name": "B1024",
         "r": [
          5.058751284896508,
          3.3225806451612905,
          2.2,
          1.7236180904522613
         ],
         "subplot": "polar3",
         "theta": [
          "Average Inference Time (ms)",
          "Power Consumption (mW)",
          "DSP Slice Count",
          "RAM Count (Block + Ultra RAM)"
         ],
         "type": "scatterpolar"
        },
        {
         "fill": "toself",
         "name": "B1152",
         "r": [
          4.681275195475758,
          4.193548387096774,
          2.8,
          3.351758793969849
         ],
         "subplot": "polar4",
         "theta": [
          "Average Inference Time (ms)",
          "Power Consumption (mW)",
          "DSP Slice Count",
          "RAM Count (Block + Ultra RAM)"
         ],
         "type": "scatterpolar"
        },
        {
         "fill": "toself",
         "name": "B1600",
         "r": [
          3.3483329920484666,
          5.5,
          3.7,
          5.115577889447236
         ],
         "subplot": "polar5",
         "theta": [
          "Average Inference Time (ms)",
          "Power Consumption (mW)",
          "DSP Slice Count",
          "RAM Count (Block + Ultra RAM)"
         ],
         "type": "scatterpolar"
        },
        {
         "fill": "toself",
         "name": "B2304",
         "r": [
          2.2873672748881244,
          6.080645161290323,
          5.5,
          6.381909547738694
         ],
         "subplot": "polar6",
         "theta": [
          "Average Inference Time (ms)",
          "Power Consumption (mW)",
          "DSP Slice Count",
          "RAM Count (Block + Ultra RAM)"
         ],
         "type": "scatterpolar"
        },
        {
         "fill": "toself",
         "name": "B3136",
         "r": [
          1.6279975677496035,
          8.112903225806452,
          7.6,
          8.010050251256281
         ],
         "subplot": "polar7",
         "theta": [
          "Average Inference Time (ms)",
          "Power Consumption (mW)",
          "DSP Slice Count",
          "RAM Count (Block + Ultra RAM)"
         ],
         "type": "scatterpolar"
        },
        {
         "fill": "toself",
         "name": "B4096",
         "r": [
          1,
          10,
          10,
          10
         ],
         "subplot": "polar8",
         "theta": [
          "Average Inference Time (ms)",
          "Power Consumption (mW)",
          "DSP Slice Count",
          "RAM Count (Block + Ultra RAM)"
         ],
         "type": "scatterpolar"
        }
       ],
       "layout": {
        "annotations": [
         {
          "font": {
           "size": 16
          },
          "showarrow": false,
          "text": "B512",
          "x": 0.225,
          "xanchor": "center",
          "xref": "paper",
          "y": 1,
          "yanchor": "bottom",
          "yref": "paper"
         },
         {
          "font": {
           "size": 16
          },
          "showarrow": false,
          "text": "B800",
          "x": 0.775,
          "xanchor": "center",
          "xref": "paper",
          "y": 1,
          "yanchor": "bottom",
          "yref": "paper"
         },
         {
          "font": {
           "size": 16
          },
          "showarrow": false,
          "text": "B1024",
          "x": 0.225,
          "xanchor": "center",
          "xref": "paper",
          "y": 0.71875,
          "yanchor": "bottom",
          "yref": "paper"
         },
         {
          "font": {
           "size": 16
          },
          "showarrow": false,
          "text": "B1152",
          "x": 0.775,
          "xanchor": "center",
          "xref": "paper",
          "y": 0.71875,
          "yanchor": "bottom",
          "yref": "paper"
         },
         {
          "font": {
           "size": 16
          },
          "showarrow": false,
          "text": "B1600",
          "x": 0.225,
          "xanchor": "center",
          "xref": "paper",
          "y": 0.4375,
          "yanchor": "bottom",
          "yref": "paper"
         },
         {
          "font": {
           "size": 16
          },
          "showarrow": false,
          "text": "B2304",
          "x": 0.775,
          "xanchor": "center",
          "xref": "paper",
          "y": 0.4375,
          "yanchor": "bottom",
          "yref": "paper"
         },
         {
          "font": {
           "size": 16
          },
          "showarrow": false,
          "text": "B3136",
          "x": 0.225,
          "xanchor": "center",
          "xref": "paper",
          "y": 0.15625,
          "yanchor": "bottom",
          "yref": "paper"
         },
         {
          "font": {
           "size": 16
          },
          "showarrow": false,
          "text": "B4096",
          "x": 0.775,
          "xanchor": "center",
          "xref": "paper",
          "y": 0.15625,
          "yanchor": "bottom",
          "yref": "paper"
         }
        ],
        "height": 1600,
        "polar": {
         "angularaxis": {
          "direction": "counterclockwise",
          "rotation": 45
         },
         "domain": {
          "x": [
           0,
           0.45
          ],
          "y": [
           0.84375,
           1
          ]
         },
         "radialaxis": {
          "visible": true
         }
        },
        "polar2": {
         "angularaxis": {
          "direction": "counterclockwise",
          "rotation": 45
         },
         "domain": {
          "x": [
           0.55,
           1
          ],
          "y": [
           0.84375,
           1
          ]
         },
         "radialaxis": {
          "visible": true
         }
        },
        "polar3": {
         "angularaxis": {
          "direction": "counterclockwise",
          "rotation": 45
         },
         "domain": {
          "x": [
           0,
           0.45
          ],
          "y": [
           0.5625,
           0.71875
          ]
         },
         "radialaxis": {
          "visible": true
         }
        },
        "polar4": {
         "angularaxis": {
          "direction": "counterclockwise",
          "rotation": 45
         },
         "domain": {
          "x": [
           0.55,
           1
          ],
          "y": [
           0.5625,
           0.71875
          ]
         },
         "radialaxis": {
          "visible": true
         }
        },
        "polar5": {
         "angularaxis": {
          "direction": "counterclockwise",
          "rotation": 45
         },
         "domain": {
          "x": [
           0,
           0.45
          ],
          "y": [
           0.28125,
           0.4375
          ]
         },
         "radialaxis": {
          "visible": true
         }
        },
        "polar6": {
         "angularaxis": {
          "direction": "counterclockwise",
          "rotation": 45
         },
         "domain": {
          "x": [
           0.55,
           1
          ],
          "y": [
           0.28125,
           0.4375
          ]
         },
         "radialaxis": {
          "visible": true
         }
        },
        "polar7": {
         "angularaxis": {
          "direction": "counterclockwise",
          "rotation": 45
         },
         "domain": {
          "x": [
           0,
           0.45
          ],
          "y": [
           0,
           0.15625
          ]
         },
         "radialaxis": {
          "visible": true
         }
        },
        "polar8": {
         "angularaxis": {
          "direction": "counterclockwise",
          "rotation": 45
         },
         "domain": {
          "x": [
           0.55,
           1
          ],
          "y": [
           0,
           0.15625
          ]
         },
         "radialaxis": {
          "visible": true
         }
        },
        "showlegend": true,
        "template": {
         "data": {
          "bar": [
           {
            "error_x": {
             "color": "#f2f5fa"
            },
            "error_y": {
             "color": "#f2f5fa"
            },
            "marker": {
             "line": {
              "color": "rgb(17,17,17)",
              "width": 0.5
             },
             "pattern": {
              "fillmode": "overlay",
              "size": 10,
              "solidity": 0.2
             }
            },
            "type": "bar"
           }
          ],
          "barpolar": [
           {
            "marker": {
             "line": {
              "color": "rgb(17,17,17)",
              "width": 0.5
             },
             "pattern": {
              "fillmode": "overlay",
              "size": 10,
              "solidity": 0.2
             }
            },
            "type": "barpolar"
           }
          ],
          "carpet": [
           {
            "aaxis": {
             "endlinecolor": "#A2B1C6",
             "gridcolor": "#506784",
             "linecolor": "#506784",
             "minorgridcolor": "#506784",
             "startlinecolor": "#A2B1C6"
            },
            "baxis": {
             "endlinecolor": "#A2B1C6",
             "gridcolor": "#506784",
             "linecolor": "#506784",
             "minorgridcolor": "#506784",
             "startlinecolor": "#A2B1C6"
            },
            "type": "carpet"
           }
          ],
          "choropleth": [
           {
            "colorbar": {
             "outlinewidth": 0,
             "ticks": ""
            },
            "type": "choropleth"
           }
          ],
          "contour": [
           {
            "colorbar": {
             "outlinewidth": 0,
             "ticks": ""
            },
            "colorscale": [
             [
              0,
              "#0d0887"
             ],
             [
              0.1111111111111111,
              "#46039f"
             ],
             [
              0.2222222222222222,
              "#7201a8"
             ],
             [
              0.3333333333333333,
              "#9c179e"
             ],
             [
              0.4444444444444444,
              "#bd3786"
             ],
             [
              0.5555555555555556,
              "#d8576b"
             ],
             [
              0.6666666666666666,
              "#ed7953"
             ],
             [
              0.7777777777777778,
              "#fb9f3a"
             ],
             [
              0.8888888888888888,
              "#fdca26"
             ],
             [
              1,
              "#f0f921"
             ]
            ],
            "type": "contour"
           }
          ],
          "contourcarpet": [
           {
            "colorbar": {
             "outlinewidth": 0,
             "ticks": ""
            },
            "type": "contourcarpet"
           }
          ],
          "heatmap": [
           {
            "colorbar": {
             "outlinewidth": 0,
             "ticks": ""
            },
            "colorscale": [
             [
              0,
              "#0d0887"
             ],
             [
              0.1111111111111111,
              "#46039f"
             ],
             [
              0.2222222222222222,
              "#7201a8"
             ],
             [
              0.3333333333333333,
              "#9c179e"
             ],
             [
              0.4444444444444444,
              "#bd3786"
             ],
             [
              0.5555555555555556,
              "#d8576b"
             ],
             [
              0.6666666666666666,
              "#ed7953"
             ],
             [
              0.7777777777777778,
              "#fb9f3a"
             ],
             [
              0.8888888888888888,
              "#fdca26"
             ],
             [
              1,
              "#f0f921"
             ]
            ],
            "type": "heatmap"
           }
          ],
          "heatmapgl": [
           {
            "colorbar": {
             "outlinewidth": 0,
             "ticks": ""
            },
            "colorscale": [
             [
              0,
              "#0d0887"
             ],
             [
              0.1111111111111111,
              "#46039f"
             ],
             [
              0.2222222222222222,
              "#7201a8"
             ],
             [
              0.3333333333333333,
              "#9c179e"
             ],
             [
              0.4444444444444444,
              "#bd3786"
             ],
             [
              0.5555555555555556,
              "#d8576b"
             ],
             [
              0.6666666666666666,
              "#ed7953"
             ],
             [
              0.7777777777777778,
              "#fb9f3a"
             ],
             [
              0.8888888888888888,
              "#fdca26"
             ],
             [
              1,
              "#f0f921"
             ]
            ],
            "type": "heatmapgl"
           }
          ],
          "histogram": [
           {
            "marker": {
             "pattern": {
              "fillmode": "overlay",
              "size": 10,
              "solidity": 0.2
             }
            },
            "type": "histogram"
           }
          ],
          "histogram2d": [
           {
            "colorbar": {
             "outlinewidth": 0,
             "ticks": ""
            },
            "colorscale": [
             [
              0,
              "#0d0887"
             ],
             [
              0.1111111111111111,
              "#46039f"
             ],
             [
              0.2222222222222222,
              "#7201a8"
             ],
             [
              0.3333333333333333,
              "#9c179e"
             ],
             [
              0.4444444444444444,
              "#bd3786"
             ],
             [
              0.5555555555555556,
              "#d8576b"
             ],
             [
              0.6666666666666666,
              "#ed7953"
             ],
             [
              0.7777777777777778,
              "#fb9f3a"
             ],
             [
              0.8888888888888888,
              "#fdca26"
             ],
             [
              1,
              "#f0f921"
             ]
            ],
            "type": "histogram2d"
           }
          ],
          "histogram2dcontour": [
           {
            "colorbar": {
             "outlinewidth": 0,
             "ticks": ""
            },
            "colorscale": [
             [
              0,
              "#0d0887"
             ],
             [
              0.1111111111111111,
              "#46039f"
             ],
             [
              0.2222222222222222,
              "#7201a8"
             ],
             [
              0.3333333333333333,
              "#9c179e"
             ],
             [
              0.4444444444444444,
              "#bd3786"
             ],
             [
              0.5555555555555556,
              "#d8576b"
             ],
             [
              0.6666666666666666,
              "#ed7953"
             ],
             [
              0.7777777777777778,
              "#fb9f3a"
             ],
             [
              0.8888888888888888,
              "#fdca26"
             ],
             [
              1,
              "#f0f921"
             ]
            ],
            "type": "histogram2dcontour"
           }
          ],
          "mesh3d": [
           {
            "colorbar": {
             "outlinewidth": 0,
             "ticks": ""
            },
            "type": "mesh3d"
           }
          ],
          "parcoords": [
           {
            "line": {
             "colorbar": {
              "outlinewidth": 0,
              "ticks": ""
             }
            },
            "type": "parcoords"
           }
          ],
          "pie": [
           {
            "automargin": true,
            "type": "pie"
           }
          ],
          "scatter": [
           {
            "marker": {
             "line": {
              "color": "#283442"
             }
            },
            "type": "scatter"
           }
          ],
          "scatter3d": [
           {
            "line": {
             "colorbar": {
              "outlinewidth": 0,
              "ticks": ""
             }
            },
            "marker": {
             "colorbar": {
              "outlinewidth": 0,
              "ticks": ""
             }
            },
            "type": "scatter3d"
           }
          ],
          "scattercarpet": [
           {
            "marker": {
             "colorbar": {
              "outlinewidth": 0,
              "ticks": ""
             }
            },
            "type": "scattercarpet"
           }
          ],
          "scattergeo": [
           {
            "marker": {
             "colorbar": {
              "outlinewidth": 0,
              "ticks": ""
             }
            },
            "type": "scattergeo"
           }
          ],
          "scattergl": [
           {
            "marker": {
             "line": {
              "color": "#283442"
             }
            },
            "type": "scattergl"
           }
          ],
          "scattermapbox": [
           {
            "marker": {
             "colorbar": {
              "outlinewidth": 0,
              "ticks": ""
             }
            },
            "type": "scattermapbox"
           }
          ],
          "scatterpolar": [
           {
            "marker": {
             "colorbar": {
              "outlinewidth": 0,
              "ticks": ""
             }
            },
            "type": "scatterpolar"
           }
          ],
          "scatterpolargl": [
           {
            "marker": {
             "colorbar": {
              "outlinewidth": 0,
              "ticks": ""
             }
            },
            "type": "scatterpolargl"
           }
          ],
          "scatterternary": [
           {
            "marker": {
             "colorbar": {
              "outlinewidth": 0,
              "ticks": ""
             }
            },
            "type": "scatterternary"
           }
          ],
          "surface": [
           {
            "colorbar": {
             "outlinewidth": 0,
             "ticks": ""
            },
            "colorscale": [
             [
              0,
              "#0d0887"
             ],
             [
              0.1111111111111111,
              "#46039f"
             ],
             [
              0.2222222222222222,
              "#7201a8"
             ],
             [
              0.3333333333333333,
              "#9c179e"
             ],
             [
              0.4444444444444444,
              "#bd3786"
             ],
             [
              0.5555555555555556,
              "#d8576b"
             ],
             [
              0.6666666666666666,
              "#ed7953"
             ],
             [
              0.7777777777777778,
              "#fb9f3a"
             ],
             [
              0.8888888888888888,
              "#fdca26"
             ],
             [
              1,
              "#f0f921"
             ]
            ],
            "type": "surface"
           }
          ],
          "table": [
           {
            "cells": {
             "fill": {
              "color": "#506784"
             },
             "line": {
              "color": "rgb(17,17,17)"
             }
            },
            "header": {
             "fill": {
              "color": "#2a3f5f"
             },
             "line": {
              "color": "rgb(17,17,17)"
             }
            },
            "type": "table"
           }
          ]
         },
         "layout": {
          "annotationdefaults": {
           "arrowcolor": "#f2f5fa",
           "arrowhead": 0,
           "arrowwidth": 1
          },
          "autotypenumbers": "strict",
          "coloraxis": {
           "colorbar": {
            "outlinewidth": 0,
            "ticks": ""
           }
          },
          "colorscale": {
           "diverging": [
            [
             0,
             "#8e0152"
            ],
            [
             0.1,
             "#c51b7d"
            ],
            [
             0.2,
             "#de77ae"
            ],
            [
             0.3,
             "#f1b6da"
            ],
            [
             0.4,
             "#fde0ef"
            ],
            [
             0.5,
             "#f7f7f7"
            ],
            [
             0.6,
             "#e6f5d0"
            ],
            [
             0.7,
             "#b8e186"
            ],
            [
             0.8,
             "#7fbc41"
            ],
            [
             0.9,
             "#4d9221"
            ],
            [
             1,
             "#276419"
            ]
           ],
           "sequential": [
            [
             0,
             "#0d0887"
            ],
            [
             0.1111111111111111,
             "#46039f"
            ],
            [
             0.2222222222222222,
             "#7201a8"
            ],
            [
             0.3333333333333333,
             "#9c179e"
            ],
            [
             0.4444444444444444,
             "#bd3786"
            ],
            [
             0.5555555555555556,
             "#d8576b"
            ],
            [
             0.6666666666666666,
             "#ed7953"
            ],
            [
             0.7777777777777778,
             "#fb9f3a"
            ],
            [
             0.8888888888888888,
             "#fdca26"
            ],
            [
             1,
             "#f0f921"
            ]
           ],
           "sequentialminus": [
            [
             0,
             "#0d0887"
            ],
            [
             0.1111111111111111,
             "#46039f"
            ],
            [
             0.2222222222222222,
             "#7201a8"
            ],
            [
             0.3333333333333333,
             "#9c179e"
            ],
            [
             0.4444444444444444,
             "#bd3786"
            ],
            [
             0.5555555555555556,
             "#d8576b"
            ],
            [
             0.6666666666666666,
             "#ed7953"
            ],
            [
             0.7777777777777778,
             "#fb9f3a"
            ],
            [
             0.8888888888888888,
             "#fdca26"
            ],
            [
             1,
             "#f0f921"
            ]
           ]
          },
          "colorway": [
           "#636efa",
           "#EF553B",
           "#00cc96",
           "#ab63fa",
           "#FFA15A",
           "#19d3f3",
           "#FF6692",
           "#B6E880",
           "#FF97FF",
           "#FECB52"
          ],
          "font": {
           "color": "#f2f5fa"
          },
          "geo": {
           "bgcolor": "rgb(17,17,17)",
           "lakecolor": "rgb(17,17,17)",
           "landcolor": "rgb(17,17,17)",
           "showlakes": true,
           "showland": true,
           "subunitcolor": "#506784"
          },
          "hoverlabel": {
           "align": "left"
          },
          "hovermode": "closest",
          "mapbox": {
           "style": "dark"
          },
          "paper_bgcolor": "rgb(17,17,17)",
          "plot_bgcolor": "rgb(17,17,17)",
          "polar": {
           "angularaxis": {
            "gridcolor": "#506784",
            "linecolor": "#506784",
            "ticks": ""
           },
           "bgcolor": "rgb(17,17,17)",
           "radialaxis": {
            "gridcolor": "#506784",
            "linecolor": "#506784",
            "ticks": ""
           }
          },
          "scene": {
           "xaxis": {
            "backgroundcolor": "rgb(17,17,17)",
            "gridcolor": "#506784",
            "gridwidth": 2,
            "linecolor": "#506784",
            "showbackground": true,
            "ticks": "",
            "zerolinecolor": "#C8D4E3"
           },
           "yaxis": {
            "backgroundcolor": "rgb(17,17,17)",
            "gridcolor": "#506784",
            "gridwidth": 2,
            "linecolor": "#506784",
            "showbackground": true,
            "ticks": "",
            "zerolinecolor": "#C8D4E3"
           },
           "zaxis": {
            "backgroundcolor": "rgb(17,17,17)",
            "gridcolor": "#506784",
            "gridwidth": 2,
            "linecolor": "#506784",
            "showbackground": true,
            "ticks": "",
            "zerolinecolor": "#C8D4E3"
           }
          },
          "shapedefaults": {
           "line": {
            "color": "#f2f5fa"
           }
          },
          "sliderdefaults": {
           "bgcolor": "#C8D4E3",
           "bordercolor": "rgb(17,17,17)",
           "borderwidth": 1,
           "tickwidth": 0
          },
          "ternary": {
           "aaxis": {
            "gridcolor": "#506784",
            "linecolor": "#506784",
            "ticks": ""
           },
           "baxis": {
            "gridcolor": "#506784",
            "linecolor": "#506784",
            "ticks": ""
           },
           "bgcolor": "rgb(17,17,17)",
           "caxis": {
            "gridcolor": "#506784",
            "linecolor": "#506784",
            "ticks": ""
           }
          },
          "title": {
           "x": 0.05
          },
          "updatemenudefaults": {
           "bgcolor": "#506784",
           "borderwidth": 0
          },
          "xaxis": {
           "automargin": true,
           "gridcolor": "#283442",
           "linecolor": "#506784",
           "ticks": "",
           "title": {
            "standoff": 15
           },
           "zerolinecolor": "#283442",
           "zerolinewidth": 2
          },
          "yaxis": {
           "automargin": true,
           "gridcolor": "#283442",
           "linecolor": "#506784",
           "ticks": "",
           "title": {
            "standoff": 15
           },
           "zerolinecolor": "#283442",
           "zerolinewidth": 2
          }
         }
        }
       }
      }
     },
     "metadata": {},
     "output_type": "display_data"
    }
   ],
   "source": [
    "# Create subplots with 4 rows and 2 columns\n",
    "fig = make_subplots(\n",
    "    rows=4, cols=2,\n",
    "    specs=[[{'type': 'polar'}]*2]*4,\n",
    "    subplot_titles=df['Architecture'].tolist()  # Set titles to each subplot\n",
    ")\n",
    "\n",
    "# Variables for plotting\n",
    "theta = ['Average Inference Time (ms)', 'Power Consumption (mW)', 'DSP Slice Count', 'RAM Count (Block + Ultra RAM)']\n",
    "\n",
    "# Loop through each architecture and create a subplot\n",
    "for index, row in df.iterrows():\n",
    "    trace = go.Scatterpolar(\n",
    "        r=row[['Average Inference Time (ms)', 'Power Consumption (mW)', 'DSP Slice Count', 'RAM Count (Block + Ultra RAM)']].tolist(),\n",
    "        theta=theta,\n",
    "        fill='toself',\n",
    "        name=row['Architecture']\n",
    "    )\n",
    "    # Calculate which row and column to place the subplot\n",
    "    row_index = (index // 2) + 1\n",
    "    col_index = (index % 2) + 1\n",
    "    fig.add_trace(trace, row=row_index, col=col_index)\n",
    "\n",
    "# Apply rotation to all polar subplots\n",
    "for i in range(1, len(df) + 1):\n",
    "    fig.update_layout(**{\n",
    "        f'polar{i}': dict(\n",
    "            angularaxis=dict(rotation=45, direction='counterclockwise'),\n",
    "            radialaxis=dict(visible=True)\n",
    "        )\n",
    "    })\n",
    "\n",
    "# Update global layout properties\n",
    "fig.update_layout(\n",
    "    height=1600,  # Adjust the height to fit all subplots\n",
    "    template='plotly_dark',\n",
    "    showlegend=True\n",
    ")\n",
    "\n",
    "fig.show()\n"
   ]
  },
  {
   "cell_type": "code",
   "execution_count": 37,
   "metadata": {},
   "outputs": [
    {
     "data": {
      "application/vnd.plotly.v1+json": {
       "config": {
        "plotlyServerURL": "https://plot.ly"
       },
       "data": [
        {
         "fill": "toself",
         "name": "B512",
         "r": [
          10,
          1,
          1,
          1
         ],
         "subplot": "polar",
         "theta": [
          "Average Inference Time (ms)",
          "Power Consumption (mW)",
          "DSP Slice Count",
          "RAM Count (Block + Ultra RAM)"
         ],
         "type": "scatterpolar"
        },
        {
         "fill": "toself",
         "name": "B800",
         "r": [
          6.699718719288757,
          2.741935483870968,
          1.825,
          2.9899497487437188
         ],
         "subplot": "polar",
         "theta": [
          "Average Inference Time (ms)",
          "Power Consumption (mW)",
          "DSP Slice Count",
          "RAM Count (Block + Ultra RAM)"
         ],
         "type": "scatterpolar"
        },
        {
         "fill": "toself",
         "name": "B3136",
         "r": [
          1.6279975677496035,
          8.112903225806452,
          7.6,
          8.010050251256281
         ],
         "subplot": "polar2",
         "theta": [
          "Average Inference Time (ms)",
          "Power Consumption (mW)",
          "DSP Slice Count",
          "RAM Count (Block + Ultra RAM)"
         ],
         "type": "scatterpolar"
        },
        {
         "fill": "toself",
         "name": "B4096",
         "r": [
          1,
          10,
          10,
          10
         ],
         "subplot": "polar2",
         "theta": [
          "Average Inference Time (ms)",
          "Power Consumption (mW)",
          "DSP Slice Count",
          "RAM Count (Block + Ultra RAM)"
         ],
         "type": "scatterpolar"
        },
        {
         "fill": "toself",
         "name": "B512",
         "r": [
          10,
          1,
          1,
          1
         ],
         "subplot": "polar3",
         "theta": [
          "Average Inference Time (ms)",
          "Power Consumption (mW)",
          "DSP Slice Count",
          "RAM Count (Block + Ultra RAM)"
         ],
         "type": "scatterpolar"
        },
        {
         "fill": "toself",
         "name": "B4096",
         "r": [
          1,
          10,
          10,
          10
         ],
         "subplot": "polar3",
         "theta": [
          "Average Inference Time (ms)",
          "Power Consumption (mW)",
          "DSP Slice Count",
          "RAM Count (Block + Ultra RAM)"
         ],
         "type": "scatterpolar"
        },
        {
         "fill": "toself",
         "name": "B800",
         "r": [
          6.699718719288757,
          2.741935483870968,
          1.825,
          2.9899497487437188
         ],
         "subplot": "polar4",
         "theta": [
          "Average Inference Time (ms)",
          "Power Consumption (mW)",
          "DSP Slice Count",
          "RAM Count (Block + Ultra RAM)"
         ],
         "type": "scatterpolar"
        },
        {
         "fill": "toself",
         "name": "B1600",
         "r": [
          3.3483329920484666,
          5.5,
          3.7,
          5.115577889447236
         ],
         "subplot": "polar4",
         "theta": [
          "Average Inference Time (ms)",
          "Power Consumption (mW)",
          "DSP Slice Count",
          "RAM Count (Block + Ultra RAM)"
         ],
         "type": "scatterpolar"
        }
       ],
       "layout": {
        "annotations": [
         {
          "font": {
           "size": 16
          },
          "showarrow": false,
          "text": "Comparison: 1 Core B512 vs B800",
          "x": 0.225,
          "xanchor": "center",
          "xref": "paper",
          "y": 1,
          "yanchor": "bottom",
          "yref": "paper"
         },
         {
          "font": {
           "size": 16
          },
          "showarrow": false,
          "text": "Comparison: 1 Core B3136 vs B4096",
          "x": 0.775,
          "xanchor": "center",
          "xref": "paper",
          "y": 1,
          "yanchor": "bottom",
          "yref": "paper"
         },
         {
          "font": {
           "size": 16
          },
          "showarrow": false,
          "text": "Comparison: 1 Core B512 vs B4096",
          "x": 0.225,
          "xanchor": "center",
          "xref": "paper",
          "y": 0.375,
          "yanchor": "bottom",
          "yref": "paper"
         },
         {
          "font": {
           "size": 16
          },
          "showarrow": false,
          "text": "Comparison: 1 Core B800 vs B1600",
          "x": 0.775,
          "xanchor": "center",
          "xref": "paper",
          "y": 0.375,
          "yanchor": "bottom",
          "yref": "paper"
         }
        ],
        "height": 1200,
        "legend": {
         "orientation": "h",
         "x": 0.1,
         "y": 1.1
        },
        "polar": {
         "angularaxis": {
          "direction": "counterclockwise",
          "rotation": 45
         },
         "domain": {
          "x": [
           0,
           0.45
          ],
          "y": [
           0.625,
           1
          ]
         },
         "radialaxis": {
          "visible": true
         }
        },
        "polar2": {
         "angularaxis": {
          "direction": "counterclockwise",
          "rotation": 45
         },
         "domain": {
          "x": [
           0.55,
           1
          ],
          "y": [
           0.625,
           1
          ]
         },
         "radialaxis": {
          "visible": true
         }
        },
        "polar3": {
         "angularaxis": {
          "direction": "counterclockwise",
          "rotation": 45
         },
         "domain": {
          "x": [
           0,
           0.45
          ],
          "y": [
           0,
           0.375
          ]
         },
         "radialaxis": {
          "visible": true
         }
        },
        "polar4": {
         "angularaxis": {
          "direction": "counterclockwise",
          "rotation": 45
         },
         "domain": {
          "x": [
           0.55,
           1
          ],
          "y": [
           0,
           0.375
          ]
         },
         "radialaxis": {
          "visible": true
         }
        },
        "showlegend": true,
        "template": {
         "data": {
          "bar": [
           {
            "error_x": {
             "color": "#f2f5fa"
            },
            "error_y": {
             "color": "#f2f5fa"
            },
            "marker": {
             "line": {
              "color": "rgb(17,17,17)",
              "width": 0.5
             },
             "pattern": {
              "fillmode": "overlay",
              "size": 10,
              "solidity": 0.2
             }
            },
            "type": "bar"
           }
          ],
          "barpolar": [
           {
            "marker": {
             "line": {
              "color": "rgb(17,17,17)",
              "width": 0.5
             },
             "pattern": {
              "fillmode": "overlay",
              "size": 10,
              "solidity": 0.2
             }
            },
            "type": "barpolar"
           }
          ],
          "carpet": [
           {
            "aaxis": {
             "endlinecolor": "#A2B1C6",
             "gridcolor": "#506784",
             "linecolor": "#506784",
             "minorgridcolor": "#506784",
             "startlinecolor": "#A2B1C6"
            },
            "baxis": {
             "endlinecolor": "#A2B1C6",
             "gridcolor": "#506784",
             "linecolor": "#506784",
             "minorgridcolor": "#506784",
             "startlinecolor": "#A2B1C6"
            },
            "type": "carpet"
           }
          ],
          "choropleth": [
           {
            "colorbar": {
             "outlinewidth": 0,
             "ticks": ""
            },
            "type": "choropleth"
           }
          ],
          "contour": [
           {
            "colorbar": {
             "outlinewidth": 0,
             "ticks": ""
            },
            "colorscale": [
             [
              0,
              "#0d0887"
             ],
             [
              0.1111111111111111,
              "#46039f"
             ],
             [
              0.2222222222222222,
              "#7201a8"
             ],
             [
              0.3333333333333333,
              "#9c179e"
             ],
             [
              0.4444444444444444,
              "#bd3786"
             ],
             [
              0.5555555555555556,
              "#d8576b"
             ],
             [
              0.6666666666666666,
              "#ed7953"
             ],
             [
              0.7777777777777778,
              "#fb9f3a"
             ],
             [
              0.8888888888888888,
              "#fdca26"
             ],
             [
              1,
              "#f0f921"
             ]
            ],
            "type": "contour"
           }
          ],
          "contourcarpet": [
           {
            "colorbar": {
             "outlinewidth": 0,
             "ticks": ""
            },
            "type": "contourcarpet"
           }
          ],
          "heatmap": [
           {
            "colorbar": {
             "outlinewidth": 0,
             "ticks": ""
            },
            "colorscale": [
             [
              0,
              "#0d0887"
             ],
             [
              0.1111111111111111,
              "#46039f"
             ],
             [
              0.2222222222222222,
              "#7201a8"
             ],
             [
              0.3333333333333333,
              "#9c179e"
             ],
             [
              0.4444444444444444,
              "#bd3786"
             ],
             [
              0.5555555555555556,
              "#d8576b"
             ],
             [
              0.6666666666666666,
              "#ed7953"
             ],
             [
              0.7777777777777778,
              "#fb9f3a"
             ],
             [
              0.8888888888888888,
              "#fdca26"
             ],
             [
              1,
              "#f0f921"
             ]
            ],
            "type": "heatmap"
           }
          ],
          "heatmapgl": [
           {
            "colorbar": {
             "outlinewidth": 0,
             "ticks": ""
            },
            "colorscale": [
             [
              0,
              "#0d0887"
             ],
             [
              0.1111111111111111,
              "#46039f"
             ],
             [
              0.2222222222222222,
              "#7201a8"
             ],
             [
              0.3333333333333333,
              "#9c179e"
             ],
             [
              0.4444444444444444,
              "#bd3786"
             ],
             [
              0.5555555555555556,
              "#d8576b"
             ],
             [
              0.6666666666666666,
              "#ed7953"
             ],
             [
              0.7777777777777778,
              "#fb9f3a"
             ],
             [
              0.8888888888888888,
              "#fdca26"
             ],
             [
              1,
              "#f0f921"
             ]
            ],
            "type": "heatmapgl"
           }
          ],
          "histogram": [
           {
            "marker": {
             "pattern": {
              "fillmode": "overlay",
              "size": 10,
              "solidity": 0.2
             }
            },
            "type": "histogram"
           }
          ],
          "histogram2d": [
           {
            "colorbar": {
             "outlinewidth": 0,
             "ticks": ""
            },
            "colorscale": [
             [
              0,
              "#0d0887"
             ],
             [
              0.1111111111111111,
              "#46039f"
             ],
             [
              0.2222222222222222,
              "#7201a8"
             ],
             [
              0.3333333333333333,
              "#9c179e"
             ],
             [
              0.4444444444444444,
              "#bd3786"
             ],
             [
              0.5555555555555556,
              "#d8576b"
             ],
             [
              0.6666666666666666,
              "#ed7953"
             ],
             [
              0.7777777777777778,
              "#fb9f3a"
             ],
             [
              0.8888888888888888,
              "#fdca26"
             ],
             [
              1,
              "#f0f921"
             ]
            ],
            "type": "histogram2d"
           }
          ],
          "histogram2dcontour": [
           {
            "colorbar": {
             "outlinewidth": 0,
             "ticks": ""
            },
            "colorscale": [
             [
              0,
              "#0d0887"
             ],
             [
              0.1111111111111111,
              "#46039f"
             ],
             [
              0.2222222222222222,
              "#7201a8"
             ],
             [
              0.3333333333333333,
              "#9c179e"
             ],
             [
              0.4444444444444444,
              "#bd3786"
             ],
             [
              0.5555555555555556,
              "#d8576b"
             ],
             [
              0.6666666666666666,
              "#ed7953"
             ],
             [
              0.7777777777777778,
              "#fb9f3a"
             ],
             [
              0.8888888888888888,
              "#fdca26"
             ],
             [
              1,
              "#f0f921"
             ]
            ],
            "type": "histogram2dcontour"
           }
          ],
          "mesh3d": [
           {
            "colorbar": {
             "outlinewidth": 0,
             "ticks": ""
            },
            "type": "mesh3d"
           }
          ],
          "parcoords": [
           {
            "line": {
             "colorbar": {
              "outlinewidth": 0,
              "ticks": ""
             }
            },
            "type": "parcoords"
           }
          ],
          "pie": [
           {
            "automargin": true,
            "type": "pie"
           }
          ],
          "scatter": [
           {
            "marker": {
             "line": {
              "color": "#283442"
             }
            },
            "type": "scatter"
           }
          ],
          "scatter3d": [
           {
            "line": {
             "colorbar": {
              "outlinewidth": 0,
              "ticks": ""
             }
            },
            "marker": {
             "colorbar": {
              "outlinewidth": 0,
              "ticks": ""
             }
            },
            "type": "scatter3d"
           }
          ],
          "scattercarpet": [
           {
            "marker": {
             "colorbar": {
              "outlinewidth": 0,
              "ticks": ""
             }
            },
            "type": "scattercarpet"
           }
          ],
          "scattergeo": [
           {
            "marker": {
             "colorbar": {
              "outlinewidth": 0,
              "ticks": ""
             }
            },
            "type": "scattergeo"
           }
          ],
          "scattergl": [
           {
            "marker": {
             "line": {
              "color": "#283442"
             }
            },
            "type": "scattergl"
           }
          ],
          "scattermapbox": [
           {
            "marker": {
             "colorbar": {
              "outlinewidth": 0,
              "ticks": ""
             }
            },
            "type": "scattermapbox"
           }
          ],
          "scatterpolar": [
           {
            "marker": {
             "colorbar": {
              "outlinewidth": 0,
              "ticks": ""
             }
            },
            "type": "scatterpolar"
           }
          ],
          "scatterpolargl": [
           {
            "marker": {
             "colorbar": {
              "outlinewidth": 0,
              "ticks": ""
             }
            },
            "type": "scatterpolargl"
           }
          ],
          "scatterternary": [
           {
            "marker": {
             "colorbar": {
              "outlinewidth": 0,
              "ticks": ""
             }
            },
            "type": "scatterternary"
           }
          ],
          "surface": [
           {
            "colorbar": {
             "outlinewidth": 0,
             "ticks": ""
            },
            "colorscale": [
             [
              0,
              "#0d0887"
             ],
             [
              0.1111111111111111,
              "#46039f"
             ],
             [
              0.2222222222222222,
              "#7201a8"
             ],
             [
              0.3333333333333333,
              "#9c179e"
             ],
             [
              0.4444444444444444,
              "#bd3786"
             ],
             [
              0.5555555555555556,
              "#d8576b"
             ],
             [
              0.6666666666666666,
              "#ed7953"
             ],
             [
              0.7777777777777778,
              "#fb9f3a"
             ],
             [
              0.8888888888888888,
              "#fdca26"
             ],
             [
              1,
              "#f0f921"
             ]
            ],
            "type": "surface"
           }
          ],
          "table": [
           {
            "cells": {
             "fill": {
              "color": "#506784"
             },
             "line": {
              "color": "rgb(17,17,17)"
             }
            },
            "header": {
             "fill": {
              "color": "#2a3f5f"
             },
             "line": {
              "color": "rgb(17,17,17)"
             }
            },
            "type": "table"
           }
          ]
         },
         "layout": {
          "annotationdefaults": {
           "arrowcolor": "#f2f5fa",
           "arrowhead": 0,
           "arrowwidth": 1
          },
          "autotypenumbers": "strict",
          "coloraxis": {
           "colorbar": {
            "outlinewidth": 0,
            "ticks": ""
           }
          },
          "colorscale": {
           "diverging": [
            [
             0,
             "#8e0152"
            ],
            [
             0.1,
             "#c51b7d"
            ],
            [
             0.2,
             "#de77ae"
            ],
            [
             0.3,
             "#f1b6da"
            ],
            [
             0.4,
             "#fde0ef"
            ],
            [
             0.5,
             "#f7f7f7"
            ],
            [
             0.6,
             "#e6f5d0"
            ],
            [
             0.7,
             "#b8e186"
            ],
            [
             0.8,
             "#7fbc41"
            ],
            [
             0.9,
             "#4d9221"
            ],
            [
             1,
             "#276419"
            ]
           ],
           "sequential": [
            [
             0,
             "#0d0887"
            ],
            [
             0.1111111111111111,
             "#46039f"
            ],
            [
             0.2222222222222222,
             "#7201a8"
            ],
            [
             0.3333333333333333,
             "#9c179e"
            ],
            [
             0.4444444444444444,
             "#bd3786"
            ],
            [
             0.5555555555555556,
             "#d8576b"
            ],
            [
             0.6666666666666666,
             "#ed7953"
            ],
            [
             0.7777777777777778,
             "#fb9f3a"
            ],
            [
             0.8888888888888888,
             "#fdca26"
            ],
            [
             1,
             "#f0f921"
            ]
           ],
           "sequentialminus": [
            [
             0,
             "#0d0887"
            ],
            [
             0.1111111111111111,
             "#46039f"
            ],
            [
             0.2222222222222222,
             "#7201a8"
            ],
            [
             0.3333333333333333,
             "#9c179e"
            ],
            [
             0.4444444444444444,
             "#bd3786"
            ],
            [
             0.5555555555555556,
             "#d8576b"
            ],
            [
             0.6666666666666666,
             "#ed7953"
            ],
            [
             0.7777777777777778,
             "#fb9f3a"
            ],
            [
             0.8888888888888888,
             "#fdca26"
            ],
            [
             1,
             "#f0f921"
            ]
           ]
          },
          "colorway": [
           "#636efa",
           "#EF553B",
           "#00cc96",
           "#ab63fa",
           "#FFA15A",
           "#19d3f3",
           "#FF6692",
           "#B6E880",
           "#FF97FF",
           "#FECB52"
          ],
          "font": {
           "color": "#f2f5fa"
          },
          "geo": {
           "bgcolor": "rgb(17,17,17)",
           "lakecolor": "rgb(17,17,17)",
           "landcolor": "rgb(17,17,17)",
           "showlakes": true,
           "showland": true,
           "subunitcolor": "#506784"
          },
          "hoverlabel": {
           "align": "left"
          },
          "hovermode": "closest",
          "mapbox": {
           "style": "dark"
          },
          "paper_bgcolor": "rgb(17,17,17)",
          "plot_bgcolor": "rgb(17,17,17)",
          "polar": {
           "angularaxis": {
            "gridcolor": "#506784",
            "linecolor": "#506784",
            "ticks": ""
           },
           "bgcolor": "rgb(17,17,17)",
           "radialaxis": {
            "gridcolor": "#506784",
            "linecolor": "#506784",
            "ticks": ""
           }
          },
          "scene": {
           "xaxis": {
            "backgroundcolor": "rgb(17,17,17)",
            "gridcolor": "#506784",
            "gridwidth": 2,
            "linecolor": "#506784",
            "showbackground": true,
            "ticks": "",
            "zerolinecolor": "#C8D4E3"
           },
           "yaxis": {
            "backgroundcolor": "rgb(17,17,17)",
            "gridcolor": "#506784",
            "gridwidth": 2,
            "linecolor": "#506784",
            "showbackground": true,
            "ticks": "",
            "zerolinecolor": "#C8D4E3"
           },
           "zaxis": {
            "backgroundcolor": "rgb(17,17,17)",
            "gridcolor": "#506784",
            "gridwidth": 2,
            "linecolor": "#506784",
            "showbackground": true,
            "ticks": "",
            "zerolinecolor": "#C8D4E3"
           }
          },
          "shapedefaults": {
           "line": {
            "color": "#f2f5fa"
           }
          },
          "sliderdefaults": {
           "bgcolor": "#C8D4E3",
           "bordercolor": "rgb(17,17,17)",
           "borderwidth": 1,
           "tickwidth": 0
          },
          "ternary": {
           "aaxis": {
            "gridcolor": "#506784",
            "linecolor": "#506784",
            "ticks": ""
           },
           "baxis": {
            "gridcolor": "#506784",
            "linecolor": "#506784",
            "ticks": ""
           },
           "bgcolor": "rgb(17,17,17)",
           "caxis": {
            "gridcolor": "#506784",
            "linecolor": "#506784",
            "ticks": ""
           }
          },
          "title": {
           "x": 0.05
          },
          "updatemenudefaults": {
           "bgcolor": "#506784",
           "borderwidth": 0
          },
          "xaxis": {
           "automargin": true,
           "gridcolor": "#283442",
           "linecolor": "#506784",
           "ticks": "",
           "title": {
            "standoff": 15
           },
           "zerolinecolor": "#283442",
           "zerolinewidth": 2
          },
          "yaxis": {
           "automargin": true,
           "gridcolor": "#283442",
           "linecolor": "#506784",
           "ticks": "",
           "title": {
            "standoff": 15
           },
           "zerolinecolor": "#283442",
           "zerolinewidth": 2
          }
         }
        }
       }
      }
     },
     "metadata": {},
     "output_type": "display_data"
    }
   ],
   "source": [
    "# Create subplots with 2 rows and 2 columns\n",
    "fig = make_subplots(\n",
    "    rows=2, cols=2,\n",
    "    specs=[[{'type': 'polar'}, {'type': 'polar'}],\n",
    "           [{'type': 'polar'}, {'type': 'polar'}]],\n",
    "    subplot_titles=[\n",
    "        'Comparison: 1 Core B512 vs B800',\n",
    "        'Comparison: 1 Core B3136 vs B4096',\n",
    "        'Comparison: 1 Core B512 vs B4096',\n",
    "        'Comparison: 1 Core B800 vs B1600'\n",
    "    ]\n",
    ")\n",
    "\n",
    "# Variables for plotting\n",
    "theta = ['Average Inference Time (ms)', 'Power Consumption (mW)', 'DSP Slice Count', 'RAM Count (Block + Ultra RAM)']\n",
    "\n",
    "# List of pairs of indices for architectures to compare\n",
    "indices_pairs = [(0, 1), (6, 7), (0, 7), (1, 4)]\n",
    "\n",
    "# Loop through pairs and create each subplot\n",
    "for i, (idx1, idx2) in enumerate(indices_pairs):\n",
    "    # First architecture\n",
    "    fig.add_trace(go.Scatterpolar(\n",
    "        r=df.loc[idx1, theta].tolist(),\n",
    "        theta=theta,\n",
    "        fill='toself',\n",
    "        name=f'{df.loc[idx1, \"Architecture\"]}'\n",
    "    ), row=(i // 2) + 1, col=(i % 2) + 1)\n",
    "    \n",
    "    # Second architecture\n",
    "    fig.add_trace(go.Scatterpolar(\n",
    "        r=df.loc[idx2, theta].tolist(),\n",
    "        theta=theta,\n",
    "        fill='toself',\n",
    "        name=f'{df.loc[idx2, \"Architecture\"]}'\n",
    "    ), row=(i // 2) + 1, col=(i % 2) + 1)\n",
    "\n",
    "# Update layout for all polar plots\n",
    "for i in range(1, 5):\n",
    "    fig.update_layout(**{\n",
    "        f'polar{i}': dict(\n",
    "            angularaxis=dict(rotation=45, direction='counterclockwise'),\n",
    "            radialaxis=dict(visible=True)\n",
    "        )\n",
    "    })\n",
    "\n",
    "# Update global layout properties\n",
    "fig.update_layout(\n",
    "    height=1200,  # Adjust height to fit all subplots comfortably\n",
    "    template='plotly_dark',\n",
    "    showlegend=True,\n",
    "    legend=dict(orientation=\"h\", x=0.1, y=1.1)  # Adjust legend positioning\n",
    ")\n",
    "\n",
    "fig.show()\n"
   ]
  },
  {
   "cell_type": "code",
   "execution_count": null,
   "metadata": {},
   "outputs": [],
   "source": []
  }
 ],
 "metadata": {
  "kernelspec": {
   "display_name": "base",
   "language": "python",
   "name": "python3"
  },
  "language_info": {
   "codemirror_mode": {
    "name": "ipython",
    "version": 3
   },
   "file_extension": ".py",
   "mimetype": "text/x-python",
   "name": "python",
   "nbconvert_exporter": "python",
   "pygments_lexer": "ipython3",
   "version": "3.10.10"
  }
 },
 "nbformat": 4,
 "nbformat_minor": 2
}
